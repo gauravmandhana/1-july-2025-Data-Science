{
 "cells": [
  {
   "cell_type": "code",
   "execution_count": 1,
   "id": "b2b65be8",
   "metadata": {},
   "outputs": [],
   "source": [
    "#contructor\n",
    "#init method\n",
    "# __init__\n",
    "\n",
    "\n",
    "class Student:\n",
    "    def __init__(self):\n",
    "        pass"
   ]
  },
  {
   "cell_type": "code",
   "execution_count": 2,
   "id": "a94a5994",
   "metadata": {},
   "outputs": [],
   "source": [
    "#calling\n",
    "class Student:\n",
    "    def __init__(self):\n",
    "        pass\n",
    "    Student()"
   ]
  },
  {
   "cell_type": "code",
   "execution_count": 8,
   "id": "71dc4d5e",
   "metadata": {},
   "outputs": [
    {
     "name": "stdout",
     "output_type": "stream",
     "text": [
      "Gaurav\n",
      "22\n"
     ]
    }
   ],
   "source": [
    "class Student:\n",
    "    def __init__(self, name, age):\n",
    "        self.name = name\n",
    "        self.age = age\n",
    "\n",
    "\n",
    "obj_st = Student(name=\"Gaurav\", age=22)\n",
    "\n",
    "\n",
    "print(obj_st.name)\n",
    "print(obj_st.age)\n"
   ]
  },
  {
   "cell_type": "code",
   "execution_count": 12,
   "id": "65282201",
   "metadata": {},
   "outputs": [
    {
     "name": "stdout",
     "output_type": "stream",
     "text": [
      "My name is Gaurav, my age is 21, and my address is Jaipur.\n"
     ]
    }
   ],
   "source": [
    "class Student:\n",
    "    def __init__(self, name, age, address):\n",
    "        self.name = name\n",
    "        self.age = age\n",
    "        self.address = address\n",
    "\n",
    "    def display(self):\n",
    "        print(f\"My name is {self.name}, my age is {self.age}, and my address is {self.address}.\")\n",
    "\n",
    "# Creating object\n",
    "obj_st = Student(name=\"Gaurav\", age=21, address=\"Jaipur\")\n",
    "\n",
    "# Calling method\n",
    "obj_st.display()\n"
   ]
  },
  {
   "cell_type": "code",
   "execution_count": 13,
   "id": "86200136",
   "metadata": {},
   "outputs": [],
   "source": [
    "#class back:\n",
    "#consterutore \n",
    "#__init__\n",
    "#account number ko private "
   ]
  },
  {
   "cell_type": "code",
   "execution_count": 29,
   "id": "490c15c5",
   "metadata": {},
   "outputs": [],
   "source": [
    "#CONTRUCTOR\n",
    "\n",
    "class ClassName:\n",
    "    def __init__(self, Name):\n",
    "        self.variable = Name"
   ]
  },
  {
   "cell_type": "code",
   "execution_count": null,
   "id": "71ae890d",
   "metadata": {},
   "outputs": [
    {
     "name": "stdout",
     "output_type": "stream",
     "text": [
      "Gaurav\n",
      "21\n"
     ]
    }
   ],
   "source": [
    "class Student:\n",
    "    def __init__(self, name, age):\n",
    "        self.name = name\n",
    "        self.age = age\n",
    "\n",
    "\n",
    "s1 = Student(\"Gaurav\", 21)\n",
    "print(s1.name)\n",
    "print(s1.age)\n"
   ]
  },
  {
   "cell_type": "code",
   "execution_count": 38,
   "id": "dd48fe56",
   "metadata": {},
   "outputs": [
    {
     "name": "stdout",
     "output_type": "stream",
     "text": [
      "Name: Goru\n",
      "Age: 21\n",
      "Date of Birth: 09-09-2003\n",
      "Address: Mandhana\n"
     ]
    }
   ],
   "source": [
    "class Student:\n",
    "    def __init__(self, name, age, dob, address):\n",
    "        self.name = name\n",
    "        self.age = age\n",
    "        self.dob = dob\n",
    "        self.address = address\n",
    "\n",
    "s2 = Student(\"Goru\", 21, \"09-09-2003\", \"Mandhana\")\n",
    "\n",
    "# Using comma (works, simple)\n",
    "print(\"Name:\", s2.name)\n",
    "print(\"Age:\", s2.age)\n",
    "print(\"Date of Birth:\", s2.dob)\n",
    "print(\"Address:\", s2.address)\n",
    "\n",
    "# print(f\"Name: {s2.name}\")\n",
    "# print(f\"Age: {s2.age}\")\n",
    "# print(f\"Date of Birth: {s2.dob}\")\n",
    "# print(f\"Address: {s2.address}\")\n",
    "\n"
   ]
  },
  {
   "cell_type": "code",
   "execution_count": null,
   "id": "33ee89a1",
   "metadata": {},
   "outputs": [],
   "source": []
  }
 ],
 "metadata": {
  "kernelspec": {
   "display_name": "Python 3",
   "language": "python",
   "name": "python3"
  },
  "language_info": {
   "codemirror_mode": {
    "name": "ipython",
    "version": 3
   },
   "file_extension": ".py",
   "mimetype": "text/x-python",
   "name": "python",
   "nbconvert_exporter": "python",
   "pygments_lexer": "ipython3",
   "version": "3.13.3"
  }
 },
 "nbformat": 4,
 "nbformat_minor": 5
}
