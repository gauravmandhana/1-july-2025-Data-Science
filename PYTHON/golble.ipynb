{
 "cells": [
  {
   "cell_type": "markdown",
   "id": "6f13115e",
   "metadata": {},
   "source": [
    "Global and Local Variables in Python\n"
   ]
  },
  {
   "cell_type": "code",
   "execution_count": 1,
   "id": "ae1be9ef",
   "metadata": {},
   "outputs": [
    {
     "name": "stdout",
     "output_type": "stream",
     "text": [
      "hello gaurav\n",
      "Outside funtion: gaurav\n"
     ]
    }
   ],
   "source": [
    "name= \"gaurav\"\n",
    "def greet():\n",
    "    print(\"hello\", name)\n",
    "greet()\n",
    "print(\"Outside funtion:\", name)\n"
   ]
  },
  {
   "cell_type": "markdown",
   "id": "6376dedb",
   "metadata": {},
   "source": [
    "Modifying Global Variable Inside a Function"
   ]
  },
  {
   "cell_type": "code",
   "execution_count": 6,
   "id": "90d1f97c",
   "metadata": {},
   "outputs": [
    {
     "name": "stdout",
     "output_type": "stream",
     "text": [
      "count is  34\n"
     ]
    }
   ],
   "source": [
    "count=0\n",
    "def increment():\n",
    "    global count\n",
    "    count += 34\n",
    "increment()\n",
    "print(\"count is \", count)\n"
   ]
  },
  {
   "cell_type": "markdown",
   "id": "498ea71f",
   "metadata": {},
   "source": [
    "Local Variable"
   ]
  },
  {
   "cell_type": "code",
   "execution_count": 7,
   "id": "fc265b12",
   "metadata": {},
   "outputs": [
    {
     "name": "stdout",
     "output_type": "stream",
     "text": [
      "hello gaurav\n"
     ]
    }
   ],
   "source": [
    "def greet():\n",
    "    name= \"gaurav\"\n",
    "    print(\"hello\", name)\n",
    "greet()"
   ]
  },
  {
   "cell_type": "code",
   "execution_count": null,
   "id": "f12d8883",
   "metadata": {},
   "outputs": [],
   "source": []
  }
 ],
 "metadata": {
  "kernelspec": {
   "display_name": "Python 3",
   "language": "python",
   "name": "python3"
  },
  "language_info": {
   "codemirror_mode": {
    "name": "ipython",
    "version": 3
   },
   "file_extension": ".py",
   "mimetype": "text/x-python",
   "name": "python",
   "nbconvert_exporter": "python",
   "pygments_lexer": "ipython3",
   "version": "3.13.3"
  }
 },
 "nbformat": 4,
 "nbformat_minor": 5
}
