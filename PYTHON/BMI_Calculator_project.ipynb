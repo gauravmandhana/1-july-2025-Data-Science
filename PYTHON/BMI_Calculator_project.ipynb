{
 "cells": [
  {
   "cell_type": "markdown",
   "id": "bfc11020",
   "metadata": {},
   "source": [
    "__BMI (Body Mass Index) Calculator__ "
   ]
  },
  {
   "cell_type": "code",
   "execution_count": 6,
   "id": "c44c0d48",
   "metadata": {},
   "outputs": [
    {
     "name": "stdout",
     "output_type": "stream",
     "text": [
      "Your BMI is: 39.06\n",
      "Yaar bura mat manna par hai to tu mota hi.\n"
     ]
    }
   ],
   "source": [
    "# BMI Calculator\n",
    "\n",
    "\n",
    "weight = float(input(\"Enter your weight in kg: \"))\n",
    "height = float(input(\"Enter your height in meters: \"))\n",
    "\n",
    "\n",
    "bmi = weight / (height ** 2)\n",
    "\n",
    "\n",
    "print(f\"Your BMI is: {bmi:.2f}\")\n",
    "\n",
    "\n",
    "if bmi < 18.5:\n",
    "    print(\"You are underweight.\")\n",
    "elif 18.5 <= bmi < 25:\n",
    "    print(\"You have a normal weight.\")\n",
    "elif 25 <= bmi < 30:\n",
    "    print(\"You are overweight.\")\n",
    "else:\n",
    "    print(\"Yaar bura mat manna par hai to tu mota hi.\")\n"
   ]
  },
  {
   "cell_type": "code",
   "execution_count": null,
   "id": "f77f1e73",
   "metadata": {},
   "outputs": [],
   "source": []
  },
  {
   "cell_type": "code",
   "execution_count": null,
   "id": "b447f27b",
   "metadata": {},
   "outputs": [],
   "source": []
  }
 ],
 "metadata": {
  "kernelspec": {
   "display_name": "Python 3",
   "language": "python",
   "name": "python3"
  },
  "language_info": {
   "codemirror_mode": {
    "name": "ipython",
    "version": 3
   },
   "file_extension": ".py",
   "mimetype": "text/x-python",
   "name": "python",
   "nbconvert_exporter": "python",
   "pygments_lexer": "ipython3",
   "version": "3.13.3"
  }
 },
 "nbformat": 4,
 "nbformat_minor": 5
}
