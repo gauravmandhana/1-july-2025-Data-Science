{
 "cells": [
  {
   "cell_type": "markdown",
   "id": "affd3f21",
   "metadata": {},
   "source": [
    "Polymorphism in python"
   ]
  },
  {
   "cell_type": "markdown",
   "id": "b2d77a31",
   "metadata": {},
   "source": [
    "polymorphism refers to the ability of different objects to respond to the same method or operation in different ways."
   ]
  },
  {
   "cell_type": "markdown",
   "id": "e6d5e312",
   "metadata": {},
   "source": [
    "Types of Polymorphism in Python:\n",
    "\n",
    "Duck Typing (Dynamic Typing)\n",
    "\n",
    "Operator Overloading\n",
    "\n",
    "Method Overriding (Runtime Polymorphism)\n",
    "\n",
    "Method Overloading (Not directly supported in Python but can be mimicked)\n",
    "\n"
   ]
  },
  {
   "cell_type": "code",
   "execution_count": null,
   "id": "b02effaa",
   "metadata": {},
   "outputs": [],
   "source": [
    "# 1.  Duck Typing:\n"
   ]
  }
 ],
 "metadata": {
  "language_info": {
   "name": "python"
  }
 },
 "nbformat": 4,
 "nbformat_minor": 5
}
