{
 "cells": [
  {
   "cell_type": "code",
   "execution_count": 1,
   "id": "88ddb759",
   "metadata": {},
   "outputs": [],
   "source": [
    "def function_name():\n",
    "    pass"
   ]
  },
  {
   "cell_type": "code",
   "execution_count": 2,
   "id": "400d65cb",
   "metadata": {},
   "outputs": [],
   "source": [
    "def function_name():\n",
    "    pass\n",
    "function_name()"
   ]
  },
  {
   "cell_type": "code",
   "execution_count": null,
   "id": "b3c00269",
   "metadata": {},
   "outputs": [
    {
     "name": "stdout",
     "output_type": "stream",
     "text": [
      "hello\n"
     ]
    }
   ],
   "source": [
    "def display():\n",
    "    print(\"hello\")\n",
    "display()"
   ]
  },
  {
   "cell_type": "code",
   "execution_count": null,
   "id": "f8c813fa",
   "metadata": {},
   "outputs": [],
   "source": []
  },
  {
   "cell_type": "code",
   "execution_count": 4,
   "id": "acf548e8",
   "metadata": {},
   "outputs": [],
   "source": [
    "def add():\n",
    "    a=10\n",
    "    b=40\n",
    "    print(a+b)"
   ]
  },
  {
   "cell_type": "code",
   "execution_count": null,
   "id": "8759dff4",
   "metadata": {},
   "outputs": [
    {
     "name": "stdout",
     "output_type": "stream",
     "text": [
      "50\n"
     ]
    }
   ],
   "source": [
    "c"
   ]
  },
  {
   "cell_type": "code",
   "execution_count": null,
   "id": "d2bdf515",
   "metadata": {},
   "outputs": [],
   "source": []
  },
  {
   "cell_type": "code",
   "execution_count": 6,
   "id": "5255dadb",
   "metadata": {},
   "outputs": [],
   "source": [
    "#user difene function\n",
    "# pre difene function \n"
   ]
  },
  {
   "cell_type": "code",
   "execution_count": null,
   "id": "63588e02",
   "metadata": {},
   "outputs": [
    {
     "name": "stdout",
     "output_type": "stream",
     "text": [
      "30\n"
     ]
    }
   ],
   "source": [
    "add = lambda a, b: a + b\n",
    "print(add(10, 20))  \n"
   ]
  },
  {
   "cell_type": "code",
   "execution_count": null,
   "id": "8aee2a21",
   "metadata": {},
   "outputs": [],
   "source": []
  }
 ],
 "metadata": {
  "kernelspec": {
   "display_name": "Python 3",
   "language": "python",
   "name": "python3"
  },
  "language_info": {
   "codemirror_mode": {
    "name": "ipython",
    "version": 3
   },
   "file_extension": ".py",
   "mimetype": "text/x-python",
   "name": "python",
   "nbconvert_exporter": "python",
   "pygments_lexer": "ipython3",
   "version": "3.13.3"
  }
 },
 "nbformat": 4,
 "nbformat_minor": 5
}
