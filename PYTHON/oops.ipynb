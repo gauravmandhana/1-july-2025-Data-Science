{
 "cells": [
  {
   "cell_type": "markdown",
   "id": "5d9b105d",
   "metadata": {},
   "source": [
    "oops concept in python"
   ]
  },
  {
   "cell_type": "code",
   "execution_count": 1,
   "id": "0766cf31",
   "metadata": {},
   "outputs": [],
   "source": [
    "# golble variable\n",
    "# local variable\n"
   ]
  },
  {
   "cell_type": "code",
   "execution_count": 2,
   "id": "507e5e40",
   "metadata": {},
   "outputs": [],
   "source": [
    "class class_name:\n",
    "    pass\n",
    "#class_name>>>>>>>> class name\n",
    "#pass>>> placeholder\n",
    "#class is a keyword"
   ]
  },
  {
   "cell_type": "code",
   "execution_count": 11,
   "id": "2648dbe3",
   "metadata": {},
   "outputs": [
    {
     "name": "stdout",
     "output_type": "stream",
     "text": [
      "My name is gaurav and my age is 20\n"
     ]
    }
   ],
   "source": [
    "class Student:\n",
    "    # class variables\n",
    "    name = \"gaurav\"\n",
    "    age = 20\n",
    "\n",
    "\n",
    "obj_st = Student()\n",
    "\n",
    "print(f\"My name is {obj_st.name} and my age is {obj_st.age}\")\n"
   ]
  },
  {
   "cell_type": "code",
   "execution_count": 9,
   "id": "281f3068",
   "metadata": {},
   "outputs": [],
   "source": [
    "class student:\n",
    "    name = \"gaurav\" ###class vARIABLE\n",
    "    age = 21\n",
    "    def info(self):\n",
    "        print(\"this is my first method\")\n",
    "        print(\"how are you all\")\n",
    "\n",
    "dt_obj= student()\n",
    "        "
   ]
  },
  {
   "cell_type": "code",
   "execution_count": 10,
   "id": "47815b7c",
   "metadata": {},
   "outputs": [
    {
     "name": "stdout",
     "output_type": "stream",
     "text": [
      "This is my first method\n",
      "How are you all\n"
     ]
    }
   ],
   "source": [
    "class Student:\n",
    "    name = \"gaurav\"  # class variable\n",
    "    age = 21\n",
    "\n",
    "    def info(self):\n",
    "        print(\"This is my first method\")\n",
    "        print(\"How are you all\")\n",
    "\n",
    "# create object after class definition\n",
    "dt_obj = Student()\n",
    "\n",
    "# call the method using the object\n",
    "dt_obj.info()\n"
   ]
  },
  {
   "cell_type": "markdown",
   "id": "3dffac73",
   "metadata": {},
   "source": [
    "INHERITENCE\n",
    "/\n",
    "TYPE OF INHERITANCE\n",
    "\n",
    "single INHERITANCE\n",
    "multiple INHERITANCE\n",
    "multilevel INHERITANCE\n",
    "hierarchical INHERITANCE\n",
    "hybrid INHERITANCE"
   ]
  },
  {
   "cell_type": "code",
   "execution_count": null,
   "id": "7dd1911b",
   "metadata": {},
   "outputs": [],
   "source": [
    "#single INHERITANCE\n"
   ]
  },
  {
   "cell_type": "code",
   "execution_count": 30,
   "id": "0704d148",
   "metadata": {},
   "outputs": [
    {
     "name": "stdout",
     "output_type": "stream",
     "text": [
      "Raffles\n",
      "Neemrana\n",
      "Gaurav\n",
      "0034\n"
     ]
    }
   ],
   "source": [
    "class College:\n",
    "    collage_name = \"Raffles\"\n",
    "    collage_address = \"Neemrana\"\n",
    "\n",
    "\n",
    "class Student(College):\n",
    "    student_name = \"Gaurav\"\n",
    "    student_id = \"0034\"\n",
    "\n",
    "\n",
    "st_obj = Student()\n",
    "\n",
    "print(st_obj.collage_name)\n",
    "print(st_obj.collage_address)\n",
    "print(st_obj.student_name)\n",
    "print(st_obj.student_id)\n"
   ]
  },
  {
   "cell_type": "code",
   "execution_count": 21,
   "id": "ae3324f1",
   "metadata": {},
   "outputs": [
    {
     "name": "stdout",
     "output_type": "stream",
     "text": [
      "Father Name: Rajnikant\n",
      "Father ID: 1234\n",
      "Uncle Name: Ram Dass\n"
     ]
    }
   ],
   "source": [
    "# Multiple Inheritance \n",
    "\n",
    "class Father:\n",
    "    Father_name = \"Rajnikant\"\n",
    "    Father_id = \"1234\"\n",
    "\n",
    "class Uncle:\n",
    "    Uncle_name = \"Ram Dass\"\n",
    "\n",
    "class Child(Father, Uncle):  \n",
    "    pass\n",
    "\n",
    "obj_child = Child()\n",
    "\n",
    "print(\"Father Name:\", obj_child.Father_name)\n",
    "print(\"Father ID:\", obj_child.Father_id)\n",
    "print(\"Uncle Name:\", obj_child.Uncle_name)\n"
   ]
  },
  {
   "cell_type": "code",
   "execution_count": 27,
   "id": "9ad68b4b",
   "metadata": {},
   "outputs": [
    {
     "name": "stdout",
     "output_type": "stream",
     "text": [
      "Grandfather Name: Hadari Lal\n",
      "Grandfather ID: 1234\n",
      "Father Name: Rajnikant\n",
      "Father ID: 1254\n"
     ]
    }
   ],
   "source": [
    "# Multilevel Inheritance Example\n",
    "\n",
    "class Grandfather:\n",
    "    Grandfather_name = \"Hadari Lal\"\n",
    "    Grandfather_id = \"1234\"\n",
    "\n",
    "class Father(Grandfather):\n",
    "    Father_name = \"Rajnikant\"\n",
    "    Father_id = \"1254\"\n",
    "\n",
    "class Child(Father):  # Inheriting from Father (who inherits from Grandfather)\n",
    "    pass\n",
    "\n",
    "# Create object of Child\n",
    "obj_child = Child()\n",
    "\n",
    "# Accessing inherited attributes\n",
    "print(\"Grandfather Name:\", obj_child.Grandfather_name)\n",
    "print(\"Grandfather ID:\", obj_child.Grandfather_id)\n",
    "print(\"Father Name:\", obj_child.Father_name)\n",
    "print(\"Father ID:\", obj_child.Father_id)\n"
   ]
  },
  {
   "cell_type": "code",
   "execution_count": 23,
   "id": "7139f4ee",
   "metadata": {},
   "outputs": [
    {
     "name": "stdout",
     "output_type": "stream",
     "text": [
      "hello\n"
     ]
    }
   ],
   "source": [
    "# polymorphism\n",
    "print(\"hello\")\n"
   ]
  },
  {
   "cell_type": "code",
   "execution_count": 24,
   "id": "2ba29e00",
   "metadata": {},
   "outputs": [
    {
     "name": "stdout",
     "output_type": "stream",
     "text": [
      "[1, 2, 3, 4, 5]\n"
     ]
    }
   ],
   "source": [
    "lst=[1,2,3,4,5]\n",
    "print(lst)"
   ]
  },
  {
   "cell_type": "code",
   "execution_count": 25,
   "id": "26ff06c1",
   "metadata": {},
   "outputs": [
    {
     "data": {
      "text/plain": [
       "list"
      ]
     },
     "execution_count": 25,
     "metadata": {},
     "output_type": "execute_result"
    }
   ],
   "source": [
    "type(lst)"
   ]
  },
  {
   "cell_type": "code",
   "execution_count": null,
   "id": "037b3647",
   "metadata": {},
   "outputs": [],
   "source": []
  }
 ],
 "metadata": {
  "kernelspec": {
   "display_name": "Python 3",
   "language": "python",
   "name": "python3"
  },
  "language_info": {
   "codemirror_mode": {
    "name": "ipython",
    "version": 3
   },
   "file_extension": ".py",
   "mimetype": "text/x-python",
   "name": "python",
   "nbconvert_exporter": "python",
   "pygments_lexer": "ipython3",
   "version": "3.13.3"
  }
 },
 "nbformat": 4,
 "nbformat_minor": 5
}
