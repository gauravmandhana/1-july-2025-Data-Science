{
 "cells": [
  {
   "cell_type": "code",
   "execution_count": 2,
   "id": "aace37e0",
   "metadata": {},
   "outputs": [],
   "source": [
    "try :\n",
    "    pass #main code\n",
    "except:\n",
    "    pass #error handler\n",
    "else:\n",
    "    pass #multiple error\n",
    "finally:\n",
    "    pass #koi chele na chale me to chaluga\n",
    "\n"
   ]
  },
  {
   "cell_type": "code",
   "execution_count": 25,
   "id": "2f7c2545",
   "metadata": {},
   "outputs": [
    {
     "name": "stdout",
     "output_type": "stream",
     "text": [
      "1452\n",
      "1.3333333333333333\n"
     ]
    }
   ],
   "source": [
    "try:\n",
    "    a = int(input(\"enter a number:\"))\n",
    "    b= int(input(\"enter 2nd number:\"))\n",
    "    print(a*b)\n",
    "    print(a/b)\n",
    "\n",
    "# except:\n",
    "# except ValueError as e:\n",
    "except ZeroDivisionError as e:\n",
    "    # print(\"invailid input\", e)\n",
    "             print(e)"
   ]
  },
  {
   "cell_type": "code",
   "execution_count": 13,
   "id": "67e9a6b7",
   "metadata": {},
   "outputs": [
    {
     "name": "stdout",
     "output_type": "stream",
     "text": [
      "division by zero\n"
     ]
    }
   ],
   "source": [
    "try:\n",
    "    a = int(input(\"enter a number:\"))\n",
    "    b= int(input(\"enter 2nd number:\"))\n",
    " \n",
    "    print(a/b)\n",
    "except Exception as e:\n",
    "    print(e)\n"
   ]
  },
  {
   "cell_type": "code",
   "execution_count": 19,
   "id": "00625599",
   "metadata": {},
   "outputs": [
    {
     "name": "stdout",
     "output_type": "stream",
     "text": [
      "0.09993092332489063\n",
      "No Error!\n",
      "1884862\n",
      "koi chale na chale me to chalu ga!\n"
     ]
    }
   ],
   "source": [
    "try :\n",
    "   a = int(input(\"Enter a number:\"))\n",
    "   b = int(input(\"enter 2nd number:\"))\n",
    "   print(a/b)\n",
    "except ZeroDivisionError as e:\n",
    "    print(e)\n",
    "\n",
    "\n",
    "else:\n",
    "    print(\"No Error!\")\n",
    "    print(a*b)\n",
    "    \n",
    "finally:\n",
    "    print(\"koi chale na chale me to chalu ga!\")\n",
    "\n",
    "\n"
   ]
  },
  {
   "cell_type": "code",
   "execution_count": 24,
   "id": "dd9e599c",
   "metadata": {},
   "outputs": [
    {
     "name": "stdout",
     "output_type": "stream",
     "text": [
      "final_result:- 0.09993092332489063\n",
      "thanks for using our service!\n"
     ]
    }
   ],
   "source": [
    "try:\n",
    "    num1=int(input(\"Enter a number:\"))\n",
    "    num2=int(input(\"enter 2nd number\"))\n",
    "    result=a/b\n",
    "except ZeroDivisionError as e:\n",
    "    print(e)\n",
    "\n",
    "except Exception as e:\n",
    "    print(e)\n",
    "else:\n",
    "    print(\"final_result:-\", result)\n",
    "finally:\n",
    "    print(\"thanks for using our service!\")\n",
    "\n"
   ]
  },
  {
   "cell_type": "code",
   "execution_count": null,
   "id": "0872728c",
   "metadata": {},
   "outputs": [],
   "source": []
  },
  {
   "cell_type": "code",
   "execution_count": null,
   "id": "a14846dc",
   "metadata": {},
   "outputs": [],
   "source": []
  }
 ],
 "metadata": {
  "kernelspec": {
   "display_name": "Python 3",
   "language": "python",
   "name": "python3"
  },
  "language_info": {
   "codemirror_mode": {
    "name": "ipython",
    "version": 3
   },
   "file_extension": ".py",
   "mimetype": "text/x-python",
   "name": "python",
   "nbconvert_exporter": "python",
   "pygments_lexer": "ipython3",
   "version": "3.13.3"
  }
 },
 "nbformat": 4,
 "nbformat_minor": 5
}
