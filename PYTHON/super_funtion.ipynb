{
 "cells": [
  {
   "cell_type": "markdown",
   "id": "46b472ba",
   "metadata": {},
   "source": [
    "__🧠 What is super() in Python?__\n",
    "\n",
    "__The super() function in Python is used inside a child class to call a method from its parent class — especially useful in inheritance.\n",
    "\n"
   ]
  },
  {
   "cell_type": "code",
   "execution_count": null,
   "id": "c33630ed",
   "metadata": {},
   "outputs": [
    {
     "name": "stdout",
     "output_type": "stream",
     "text": [
      "this is a  parent class\n",
      "this is a child class \n"
     ]
    }
   ],
   "source": [
    "#<<<<<<<<<<<<<<<SUPER FUNCTION>>>>>>>>>>>>>\n",
    "\n",
    "class parent:\n",
    "    def display(self):\n",
    "        print(\"this is a  parent class\")\n",
    "class child(parent):\n",
    "    def display(self):    \n",
    "        super().display()\n",
    "        print(\"this is a child class \")\n",
    "obj = child()\n",
    "obj.display()\n",
    "\n",
    "            \n",
    "            \n"
   ]
  },
  {
   "cell_type": "code",
   "execution_count": null,
   "id": "98862817",
   "metadata": {},
   "outputs": [],
   "source": []
  }
 ],
 "metadata": {
  "kernelspec": {
   "display_name": "Python 3",
   "language": "python",
   "name": "python3"
  },
  "language_info": {
   "codemirror_mode": {
    "name": "ipython",
    "version": 3
   },
   "file_extension": ".py",
   "mimetype": "text/x-python",
   "name": "python",
   "nbconvert_exporter": "python",
   "pygments_lexer": "ipython3",
   "version": "3.13.3"
  }
 },
 "nbformat": 4,
 "nbformat_minor": 5
}
