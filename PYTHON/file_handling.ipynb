{
 "cells": [
  {
   "cell_type": "markdown",
   "id": "59c0ac13",
   "metadata": {},
   "source": [
    "## read >>>> r\n",
    "\n",
    "## write >>>> w\n",
    "\n",
    "## append >>> a\n",
    "\n",
    "## create >>> x\n",
    "| Mode   | Description                                                  |\n",
    "| ------ | ------------------------------------------------------------ |\n",
    "| \"r\"  | Read mode (default), error if file doesn't exist             |\n",
    "| \"w\"  | Write mode, creates a file if not exist, overwrites existing |\n",
    "| \"a\"  | Append mode, adds content to end of file                     |\n",
    "| \"x\"  | Create mode, error if file already exists                    |\n",
    "\n"
   ]
  },
  {
   "cell_type": "code",
   "execution_count": 2,
   "id": "004e5279",
   "metadata": {},
   "outputs": [],
   "source": [
    "file=open(\"what to do.txt\",'a')\n",
    "file.write(\"hello kese ho \")\n",
    "file.close()"
   ]
  },
  {
   "cell_type": "code",
   "execution_count": 19,
   "id": "82bdc3e4",
   "metadata": {},
   "outputs": [],
   "source": [
    "\n",
    "file=open ('demo.txt', 'r') ## r for read and demo.txt is name of file \n",
    "file.read() ##it will read the file \n",
    "file.close() # it will close the file "
   ]
  },
  {
   "cell_type": "code",
   "execution_count": 7,
   "id": "7b505709",
   "metadata": {},
   "outputs": [],
   "source": [
    "file =open('demo.txt', 'r') ####it will append the file \n",
    "# file.readline( ) ##it will read all the lines of the file\n",
    "file.close()\n"
   ]
  },
  {
   "cell_type": "code",
   "execution_count": 13,
   "id": "a56bf8c2",
   "metadata": {},
   "outputs": [],
   "source": [
    "file=open('demo.txt', 'w') # w for write mode and demo.txt is file name \n",
    "# file.read() ##it will read the file \n",
    "file.write(\"hello world\") ##it will write the file \n",
    "file.close()\n",
    "\n"
   ]
  },
  {
   "cell_type": "code",
   "execution_count": 20,
   "id": "700ed301",
   "metadata": {},
   "outputs": [],
   "source": [
    "file = open('demo.txt', 'r')\n",
    "file.read()\n",
    "file.close()\n"
   ]
  },
  {
   "cell_type": "code",
   "execution_count": 15,
   "id": "94be72b5",
   "metadata": {},
   "outputs": [],
   "source": [
    "## Append mode\n",
    "file=open (\"demo.txt\", 'a')\n",
    "file.write(\"Hello bhai kase ho \")\n",
    "file.close()"
   ]
  },
  {
   "cell_type": "code",
   "execution_count": 1,
   "id": "665ca547",
   "metadata": {},
   "outputs": [],
   "source": [
    "file=open(\"text,txt\", 'a')\n",
    "file.write(\"append ka kaam yeh hota hai ki agr eska file milti hai to  te ussi file ka ander append krdega agr esko file nahi milti hai to create kar dega \")\n",
    "file.close()\n",
    "\n",
    "## "
   ]
  },
  {
   "cell_type": "code",
   "execution_count": 18,
   "id": "597d5998",
   "metadata": {},
   "outputs": [],
   "source": [
    "## create mode \n",
    "file=open(\"upflair.txt\", 'x')\n",
    "file.write(\"to kase rah upflair \")\n",
    "file.close()\n",
    "#file.read()"
   ]
  },
  {
   "cell_type": "code",
   "execution_count": 21,
   "id": "556a1b5f",
   "metadata": {},
   "outputs": [
    {
     "name": "stdout",
     "output_type": "stream",
     "text": [
      "\n"
     ]
    }
   ],
   "source": [
    "file=open(\"what to do.txt\",\"r\")\n",
    "c=file.read()\n",
    "print(c)\n",
    "file.close()\n",
    "          "
   ]
  },
  {
   "cell_type": "code",
   "execution_count": 27,
   "id": "e329b3ca",
   "metadata": {},
   "outputs": [
    {
     "name": "stdout",
     "output_type": "stream",
     "text": [
      "Characters written: 26\n"
     ]
    }
   ],
   "source": [
    "file = open(\"what to do.txt\", \"w\")\n",
    "c = file.write(\"yeh bhi likha lena es mein\")  # writing string into file\n",
    "print(\"Characters written:\", c)\n",
    "file.close()\n",
    "\n"
   ]
  },
  {
   "cell_type": "code",
   "execution_count": 28,
   "id": "a5417374",
   "metadata": {},
   "outputs": [
    {
     "name": "stdout",
     "output_type": "stream",
     "text": [
      "15\n"
     ]
    }
   ],
   "source": [
    "file=open(\"what to do.txt\", \"a\")\n",
    "c= file.write(\"ye bhi kar lena\")\n",
    "print(c)\n"
   ]
  },
  {
   "cell_type": "code",
   "execution_count": 29,
   "id": "76d80641",
   "metadata": {},
   "outputs": [
    {
     "name": "stdout",
     "output_type": "stream",
     "text": [
      "19\n"
     ]
    }
   ],
   "source": [
    "file=open(\"demo1.txt\",\"w\")\n",
    "contant=file.write(\"this is a ne file! \")\n",
    "print(contant)\n"
   ]
  },
  {
   "cell_type": "code",
   "execution_count": 30,
   "id": "912e6434",
   "metadata": {},
   "outputs": [
    {
     "name": "stdout",
     "output_type": "stream",
     "text": [
      "this is a ne file! \n"
     ]
    }
   ],
   "source": [
    "file=open(\"demo1.txt\", \"r\")\n",
    "contant=file.read()\n",
    "print(contant)\n"
   ]
  },
  {
   "cell_type": "code",
   "execution_count": 31,
   "id": "9488fb38",
   "metadata": {},
   "outputs": [
    {
     "name": "stdout",
     "output_type": "stream",
     "text": [
      "34\n"
     ]
    }
   ],
   "source": [
    "file=open(\"demo1.txt\", \"a\")\n",
    "contant=file.write(\"and this is use of append opration\")\n",
    "print(contant)\n"
   ]
  },
  {
   "cell_type": "code",
   "execution_count": 33,
   "id": "9316bfc5",
   "metadata": {},
   "outputs": [
    {
     "name": "stdout",
     "output_type": "stream",
     "text": [
      "45\n"
     ]
    }
   ],
   "source": [
    "file=open(\"demo2.txt\", \"x\")\n",
    "contant=file.write(\"this is a new file for the use of x opration \")\n",
    "print(contant)\n"
   ]
  },
  {
   "cell_type": "code",
   "execution_count": 34,
   "id": "7f3728c4",
   "metadata": {},
   "outputs": [
    {
     "name": "stdout",
     "output_type": "stream",
     "text": [
      "24\n"
     ]
    }
   ],
   "source": [
    "file=open(\"demo2.txt\", \"w\")\n",
    "contant=file.write(\"demo2 is a new txt file \")\n",
    "print(contant)\n"
   ]
  },
  {
   "cell_type": "code",
   "execution_count": 35,
   "id": "a54e2bf6",
   "metadata": {},
   "outputs": [
    {
     "name": "stdout",
     "output_type": "stream",
     "text": [
      "demo2 is a new txt file he use of x opration \n"
     ]
    }
   ],
   "source": [
    "file=open(\"demo2.txt\", \"r\")\n",
    "contant=file.read()\n",
    "print(contant)\n"
   ]
  },
  {
   "cell_type": "code",
   "execution_count": 38,
   "id": "21a7a130",
   "metadata": {},
   "outputs": [
    {
     "name": "stdout",
     "output_type": "stream",
     "text": [
      "18\n"
     ]
    }
   ],
   "source": [
    "file=open(\"demo2.txt\",\"a\")\n",
    "contant=file.write(\"this use of append\")\n",
    "print(contant)\n"
   ]
  },
  {
   "cell_type": "code",
   "execution_count": null,
   "id": "af841723",
   "metadata": {},
   "outputs": [],
   "source": []
  }
 ],
 "metadata": {
  "kernelspec": {
   "display_name": "Python 3",
   "language": "python",
   "name": "python3"
  },
  "language_info": {
   "codemirror_mode": {
    "name": "ipython",
    "version": 3
   },
   "file_extension": ".py",
   "mimetype": "text/x-python",
   "name": "python",
   "nbconvert_exporter": "python",
   "pygments_lexer": "ipython3",
   "version": "3.13.3"
  }
 },
 "nbformat": 4,
 "nbformat_minor": 5
}
