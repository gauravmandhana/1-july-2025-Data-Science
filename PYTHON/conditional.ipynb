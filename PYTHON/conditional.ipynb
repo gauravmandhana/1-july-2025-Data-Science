{
 "cells": [
  {
   "cell_type": "markdown",
   "id": "ee272b53",
   "metadata": {},
   "source": [
    "#Condistional Statement\n",
    "*if,else,elif\n",
    "A condinal statement "
   ]
  },
  {
   "cell_type": "code",
   "execution_count": null,
   "id": "ad1f2246",
   "metadata": {},
   "outputs": [
    {
     "data": {
      "text/plain": [
       "10"
      ]
     },
     "execution_count": 4,
     "metadata": {},
     "output_type": "execute_result"
    }
   ],
   "source": [
    "if condi\n",
    "\n"
   ]
  },
  {
   "cell_type": "code",
   "execution_count": 10,
   "id": "136f7313",
   "metadata": {},
   "outputs": [
    {
     "name": "stdout",
     "output_type": "stream",
     "text": [
      "x chota hai 10 se\n"
     ]
    }
   ],
   "source": [
    "x= 0\n",
    "if x<10:\n",
    "    print(\"x chota hai 10 se\")\n",
    "else:\n",
    "    print(\"bda hai 10 se\")\n",
    "\n",
    "    \n"
   ]
  },
  {
   "cell_type": "code",
   "execution_count": 6,
   "id": "9a88188b",
   "metadata": {},
   "outputs": [
    {
     "data": {
      "text/plain": [
       "33"
      ]
     },
     "execution_count": 6,
     "metadata": {},
     "output_type": "execute_result"
    }
   ],
   "source": [
    "33\n"
   ]
  },
  {
   "cell_type": "code",
   "execution_count": 9,
   "id": "f4a4aa88",
   "metadata": {},
   "outputs": [
    {
     "data": {
      "text/plain": [
       "2"
      ]
     },
     "execution_count": 9,
     "metadata": {},
     "output_type": "execute_result"
    }
   ],
   "source": [
    "2\n"
   ]
  },
  {
   "cell_type": "code",
   "execution_count": 13,
   "id": "7e691c90",
   "metadata": {},
   "outputs": [
    {
     "name": "stdout",
     "output_type": "stream",
     "text": [
      "you can able for vote\n"
     ]
    }
   ],
   "source": [
    "age=int(input(x))\n",
    "if x<18:\n",
    "    print(\"you can able for vote\")\n",
    "else:\n",
    "    print(\"ypu can't able for vote\")\n"
   ]
  },
  {
   "cell_type": "code",
   "execution_count": null,
   "id": "285a1571",
   "metadata": {},
   "outputs": [],
   "source": []
  },
  {
   "cell_type": "code",
   "execution_count": null,
   "id": "b22c82fa",
   "metadata": {},
   "outputs": [],
   "source": []
  }
 ],
 "metadata": {
  "kernelspec": {
   "display_name": "Python 3",
   "language": "python",
   "name": "python3"
  },
  "language_info": {
   "codemirror_mode": {
    "name": "ipython",
    "version": 3
   },
   "file_extension": ".py",
   "mimetype": "text/x-python",
   "name": "python",
   "nbconvert_exporter": "python",
   "pygments_lexer": "ipython3",
   "version": "3.13.3"
  }
 },
 "nbformat": 4,
 "nbformat_minor": 5
}
