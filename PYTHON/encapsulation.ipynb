{
 "cells": [
  {
   "cell_type": "code",
   "execution_count": null,
   "id": "6375fdfc",
   "metadata": {},
   "outputs": [],
   "source": [
    "#encapsulation\n",
    "#private \n",
    "#public\n",
    "#protected\n",
    "\n",
    "class   Student:\n",
    "    pass\n",
    "    name=\"Gaurav\"\n",
    "    age=21 \n",
    "    _id =\"0034\"\n",
    "st_obj = Student()"
   ]
  },
  {
   "cell_type": "code",
   "execution_count": 29,
   "id": "acfad3d7",
   "metadata": {},
   "outputs": [
    {
     "data": {
      "text/plain": [
       "'Gaurav'"
      ]
     },
     "execution_count": 29,
     "metadata": {},
     "output_type": "execute_result"
    }
   ],
   "source": [
    "st_obj.name"
   ]
  },
  {
   "cell_type": "code",
   "execution_count": null,
   "id": "ee0f49f6",
   "metadata": {},
   "outputs": [
    {
     "data": {
      "text/plain": [
       "21"
      ]
     },
     "execution_count": 10,
     "metadata": {},
     "output_type": "execute_result"
    }
   ],
   "source": [
    "# st_obj.age"
   ]
  },
  {
   "cell_type": "code",
   "execution_count": null,
   "id": "d589552b",
   "metadata": {},
   "outputs": [
    {
     "data": {
      "text/plain": [
       "'0034'"
      ]
     },
     "execution_count": 11,
     "metadata": {},
     "output_type": "execute_result"
    }
   ],
   "source": [
    "# st_obj._id"
   ]
  },
  {
   "cell_type": "code",
   "execution_count": 21,
   "id": "3f46b4dc",
   "metadata": {},
   "outputs": [],
   "source": [
    "class bank:\n",
    "    \n",
    "    __account_number=\"33454363\"\n",
    "    name=\"Gaurav\"\n",
    "    address=\"jaipur\"\n",
    "    phone_number=\"4835734895\"\n",
    "    _total_balance=\"575.75\"\n",
    "\n",
    "st_obj=bank()"
   ]
  },
  {
   "cell_type": "code",
   "execution_count": 24,
   "id": "d02f49b8",
   "metadata": {},
   "outputs": [
    {
     "data": {
      "text/plain": [
       "'Gaurav'"
      ]
     },
     "execution_count": 24,
     "metadata": {},
     "output_type": "execute_result"
    }
   ],
   "source": [
    "st_obj.name"
   ]
  },
  {
   "cell_type": "code",
   "execution_count": null,
   "id": "149034ba",
   "metadata": {},
   "outputs": [
    {
     "ename": "AttributeError",
     "evalue": "'bank' object has no attribute '__account_number'",
     "output_type": "error",
     "traceback": [
      "\u001b[31m---------------------------------------------------------------------------\u001b[39m",
      "\u001b[31mAttributeError\u001b[39m                            Traceback (most recent call last)",
      "\u001b[36mCell\u001b[39m\u001b[36m \u001b[39m\u001b[32mIn[25]\u001b[39m\u001b[32m, line 1\u001b[39m\n\u001b[32m----> \u001b[39m\u001b[32m1\u001b[39m \u001b[43mst_obj\u001b[49m\u001b[43m.\u001b[49m\u001b[43m__account_number\u001b[49m \u001b[38;5;66;03m##error aaye ga kyuki \"__\" ka use ki hai account number ko private rakhne k liye\u001b[39;00m\n",
      "\u001b[31mAttributeError\u001b[39m: 'bank' object has no attribute '__account_number'"
     ]
    }
   ],
   "source": [
    "st_obj.__account_number ##error aaye ga kyuki \"__\"(double underscore) ka use ki hai account number ko private rakhne k liye"
   ]
  },
  {
   "cell_type": "code",
   "execution_count": 22,
   "id": "cdbec88b",
   "metadata": {},
   "outputs": [
    {
     "data": {
      "text/plain": [
       "'jaipur'"
      ]
     },
     "execution_count": 22,
     "metadata": {},
     "output_type": "execute_result"
    }
   ],
   "source": [
    "st_obj.address"
   ]
  },
  {
   "cell_type": "code",
   "execution_count": null,
   "id": "176002c4",
   "metadata": {},
   "outputs": [],
   "source": [
    "# class\n",
    "#   method\n",
    "#   inheritance\n",
    "    "
   ]
  },
  {
   "cell_type": "code",
   "execution_count": 13,
   "id": "00c72ca1",
   "metadata": {},
   "outputs": [],
   "source": [
    "#class\n",
    "\n",
    "class Person:\n",
    "    name = \"Gaurav\"\n",
    "    age = 22\n",
    "st_obj=Person"
   ]
  },
  {
   "cell_type": "code",
   "execution_count": 8,
   "id": "fbd19584",
   "metadata": {},
   "outputs": [
    {
     "data": {
      "text/plain": [
       "'Gaurav'"
      ]
     },
     "execution_count": 8,
     "metadata": {},
     "output_type": "execute_result"
    }
   ],
   "source": [
    "st_obj.name"
   ]
  },
  {
   "cell_type": "code",
   "execution_count": 12,
   "id": "0d9af219",
   "metadata": {},
   "outputs": [
    {
     "data": {
      "text/plain": [
       "22"
      ]
     },
     "execution_count": 12,
     "metadata": {},
     "output_type": "execute_result"
    }
   ],
   "source": [
    "st_obj.age\n"
   ]
  },
  {
   "cell_type": "code",
   "execution_count": 15,
   "id": "c81599f3",
   "metadata": {},
   "outputs": [
    {
     "name": "stdout",
     "output_type": "stream",
     "text": [
      "Name: Gaurav\n",
      "Age: 22\n"
     ]
    }
   ],
   "source": [
    "class Person:\n",
    "    def __init__(self, name, age): \n",
    "        self.name = name\n",
    "        self.age = age\n",
    "\n",
    "    def show_info(self): \n",
    "        print(\"Name:\", self.name)\n",
    "        print(\"Age:\", self.age)\n",
    "\n",
    "\n",
    "p = Person(\"Gaurav\", 22)\n",
    "p.show_info()\n"
   ]
  },
  {
   "cell_type": "code",
   "execution_count": 16,
   "id": "d43f1304",
   "metadata": {},
   "outputs": [],
   "source": [
    "class person:\n",
    "     name=\"Gaurav\"\n",
    "     age=\"22\"\n",
    "     "
   ]
  },
  {
   "cell_type": "code",
   "execution_count": null,
   "id": "63bfc0eb",
   "metadata": {},
   "outputs": [],
   "source": []
  },
  {
   "cell_type": "code",
   "execution_count": null,
   "id": "7996c6eb",
   "metadata": {},
   "outputs": [],
   "source": []
  }
 ],
 "metadata": {
  "kernelspec": {
   "display_name": "Python 3",
   "language": "python",
   "name": "python3"
  },
  "language_info": {
   "codemirror_mode": {
    "name": "ipython",
    "version": 3
   },
   "file_extension": ".py",
   "mimetype": "text/x-python",
   "name": "python",
   "nbconvert_exporter": "python",
   "pygments_lexer": "ipython3",
   "version": "3.13.3"
  }
 },
 "nbformat": 4,
 "nbformat_minor": 5
}
