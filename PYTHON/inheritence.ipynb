{
 "cells": [
  {
   "cell_type": "markdown",
   "id": "44e059cd",
   "metadata": {},
   "source": [
    " Inheritance in Python <>\n",
    "\n",
    " It allows a child class to inherit properties and behaviors (methods) from a parent class,"
   ]
  },
  {
   "cell_type": "code",
   "execution_count": 6,
   "id": "b1e911a9",
   "metadata": {},
   "outputs": [
    {
     "name": "stdout",
     "output_type": "stream",
     "text": [
      "Animal speaks\n",
      "Dog barks\n"
     ]
    }
   ],
   "source": [
    "# Types of Inheritance in Python\n",
    "# 1. Single Inheritance\n",
    "# (One child class inherits from one parent class.)\n",
    "class Animal:\n",
    "    def speak(self):\n",
    "        print(\"Animal speaks\")\n",
    "\n",
    "class Dog(Animal):\n",
    "    def bark(self):\n",
    "        print(\"Dog barks\")\n",
    "\n",
    "d = Dog()\n",
    "d.speak()  # inherited from Animal\n",
    "d.bark()\n"
   ]
  },
  {
   "cell_type": "code",
   "execution_count": 7,
   "id": "7ed50cd5",
   "metadata": {},
   "outputs": [
    {
     "name": "stdout",
     "output_type": "stream",
     "text": [
      "I am Grandfather\n",
      "I am Father\n",
      "I am Son\n"
     ]
    }
   ],
   "source": [
    "# 2. Multilevel Inheritance\n",
    "# A child class inherits from a parent, which itself inherits from another parent.\n",
    "\n",
    "class Grandfather:\n",
    "    def display_grandfather(self):\n",
    "        print(\"I am Grandfather\")\n",
    "\n",
    "class Father(Grandfather):\n",
    "    def display_father(self):\n",
    "        print(\"I am Father\")\n",
    "\n",
    "class Son(Father):\n",
    "    def display_son(self):\n",
    "        print(\"I am Son\")\n",
    "\n",
    "s = Son()\n",
    "s.display_grandfather()\n",
    "s.display_father()\n",
    "s.display_son()\n"
   ]
  },
  {
   "cell_type": "code",
   "execution_count": 8,
   "id": "7da31ec4",
   "metadata": {},
   "outputs": [
    {
     "name": "stdout",
     "output_type": "stream",
     "text": [
      "Father's skill: Driving\n",
      "Mother's skill: Cooking\n",
      "Child's skill: Painting\n"
     ]
    }
   ],
   "source": [
    "# 3. Multiple Inheritance\n",
    "# A child class inherits from multiple parent classes.\n",
    "\n",
    "class Father:\n",
    "    def skill1(self):\n",
    "        print(\"Father's skill: Driving\")\n",
    "\n",
    "class Mother:\n",
    "    def skill2(self):\n",
    "        print(\"Mother's skill: Cooking\")\n",
    "\n",
    "class Child(Father, Mother):\n",
    "    def skill3(self):\n",
    "        print(\"Child's skill: Painting\")\n",
    "\n",
    "c = Child()\n",
    "c.skill1()\n",
    "c.skill2()\n",
    "c.skill3()\n"
   ]
  },
  {
   "cell_type": "code",
   "execution_count": 9,
   "id": "e14db038",
   "metadata": {},
   "outputs": [
    {
     "name": "stdout",
     "output_type": "stream",
     "text": [
      "Parent has a house\n",
      "Child1 has a bike\n",
      "Parent has a house\n",
      "Child2 has a car\n"
     ]
    }
   ],
   "source": [
    "# 4. Hierarchical Inheritance\n",
    "# Multiple child classes inherit from a single parent class.\n",
    "\n",
    "class Parent:\n",
    "    def house(self):\n",
    "        print(\"Parent has a house\")\n",
    "\n",
    "class Child1(Parent):\n",
    "    def bike(self):\n",
    "        print(\"Child1 has a bike\")\n",
    "\n",
    "class Child2(Parent):\n",
    "    def car(self):\n",
    "        print(\"Child2 has a car\")\n",
    "\n",
    "c1 = Child1()\n",
    "c2 = Child2()\n",
    "\n",
    "c1.house()\n",
    "c1.bike()\n",
    "\n",
    "c2.house()\n",
    "c2.car()\n"
   ]
  },
  {
   "cell_type": "code",
   "execution_count": 10,
   "id": "87eb626a",
   "metadata": {},
   "outputs": [
    {
     "name": "stdout",
     "output_type": "stream",
     "text": [
      "Class A method\n",
      "Class B method\n",
      "Class C method\n",
      "Class D method\n"
     ]
    }
   ],
   "source": [
    "# 5. Hybrid Inheritance\n",
    "# Combination of multiple inheritance types.\n",
    "\n",
    "class A:\n",
    "    def a_method(self):\n",
    "        print(\"Class A method\")\n",
    "\n",
    "class B(A):\n",
    "    def b_method(self):\n",
    "        print(\"Class B method\")\n",
    "\n",
    "class C:\n",
    "    def c_method(self):\n",
    "        print(\"Class C method\")\n",
    "\n",
    "class D(B, C):  # Hybrid (Multilevel + Multiple)\n",
    "    def d_method(self):\n",
    "        print(\"Class D method\")\n",
    "\n",
    "obj = D()\n",
    "obj.a_method()\n",
    "obj.b_method()\n",
    "obj.c_method()\n",
    "obj.d_method()\n"
   ]
  },
  {
   "cell_type": "code",
   "execution_count": null,
   "id": "1f5f389a",
   "metadata": {},
   "outputs": [],
   "source": []
  }
 ],
 "metadata": {
  "kernelspec": {
   "display_name": "Python 3",
   "language": "python",
   "name": "python3"
  },
  "language_info": {
   "codemirror_mode": {
    "name": "ipython",
    "version": 3
   },
   "file_extension": ".py",
   "mimetype": "text/x-python",
   "name": "python",
   "nbconvert_exporter": "python",
   "pygments_lexer": "ipython3",
   "version": "3.13.3"
  }
 },
 "nbformat": 4,
 "nbformat_minor": 5
}
