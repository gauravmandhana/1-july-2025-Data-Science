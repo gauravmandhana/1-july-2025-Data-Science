{
 "cells": [
  {
   "cell_type": "markdown",
   "id": "1fe9d833",
   "metadata": {},
   "source": [
    "os"
   ]
  },
  {
   "cell_type": "code",
   "execution_count": 1,
   "id": "358e932e",
   "metadata": {},
   "outputs": [],
   "source": [
    "import os"
   ]
  },
  {
   "cell_type": "code",
   "execution_count": 3,
   "id": "e1c91801",
   "metadata": {},
   "outputs": [
    {
     "name": "stdout",
     "output_type": "stream",
     "text": [
      "c:\\Users\\dell\\Desktop\\DATA SICENCE\\PYTHON\n"
     ]
    }
   ],
   "source": [
    "file= os.getcwd()\n",
    "print(file)\n"
   ]
  },
  {
   "cell_type": "code",
   "execution_count": null,
   "id": "cc95534b",
   "metadata": {},
   "outputs": [],
   "source": []
  }
 ],
 "metadata": {
  "kernelspec": {
   "display_name": "Python 3",
   "language": "python",
   "name": "python3"
  },
  "language_info": {
   "codemirror_mode": {
    "name": "ipython",
    "version": 3
   },
   "file_extension": ".py",
   "mimetype": "text/x-python",
   "name": "python",
   "nbconvert_exporter": "python",
   "pygments_lexer": "ipython3",
   "version": "3.13.3"
  }
 },
 "nbformat": 4,
 "nbformat_minor": 5
}
