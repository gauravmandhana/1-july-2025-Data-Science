{
 "cells": [
  {
   "cell_type": "markdown",
   "id": "ad7a1cdb",
   "metadata": {},
   "source": [
    "__✅ What is NumPy?__"
   ]
  },
  {
   "cell_type": "code",
   "execution_count": 62,
   "id": "95a0386e",
   "metadata": {},
   "outputs": [],
   "source": [
    "import numpy as np\n"
   ]
  },
  {
   "cell_type": "code",
   "execution_count": 63,
   "id": "dbcd3587",
   "metadata": {},
   "outputs": [],
   "source": [
    "\n",
    "a = [1, 2, 3]\n",
    "b = [4, 5, 6]\n",
    "c = [a[i] + b[i] for i in range(3)]  \n",
    "\n",
    "\n",
    "import numpy as np\n",
    "a = np.array([1, 2, 3])\n",
    "b = np.array([4, 5, 6])\n",
    "c = a + b \n"
   ]
  },
  {
   "cell_type": "code",
   "execution_count": null,
   "id": "c1fb8cd4",
   "metadata": {},
   "outputs": [],
   "source": [
    "import numpy as np\n",
    "\n",
    "arr =np.array([1,2,3,4,5,6,7,8,9,10])\n",
    "arr"
   ]
  },
  {
   "cell_type": "code",
   "execution_count": null,
   "id": "87aabccf",
   "metadata": {},
   "outputs": [],
   "source": [
    "arr2d = np.array([[1, 2],[3, 4]])\n",
    "print(arr2d)\n"
   ]
  },
  {
   "cell_type": "code",
   "execution_count": null,
   "id": "1a2ef0dc",
   "metadata": {},
   "outputs": [],
   "source": [
    "np.zeros(10) \n"
   ]
  },
  {
   "cell_type": "code",
   "execution_count": null,
   "id": "b3e2c99d",
   "metadata": {},
   "outputs": [],
   "source": [
    "np.ones(10)\n",
    "        \n"
   ]
  },
  {
   "cell_type": "code",
   "execution_count": null,
   "id": "6b7456ac",
   "metadata": {},
   "outputs": [],
   "source": [
    "np.arange(1, 10)  \n",
    "\n"
   ]
  },
  {
   "cell_type": "code",
   "execution_count": null,
   "id": "a156aea2",
   "metadata": {},
   "outputs": [],
   "source": [
    "np.linspace(0, 1, 5,6) "
   ]
  },
  {
   "cell_type": "code",
   "execution_count": null,
   "id": "87838097",
   "metadata": {},
   "outputs": [],
   "source": [
    "np.linspace(0,10,5)"
   ]
  },
  {
   "cell_type": "code",
   "execution_count": null,
   "id": "c0201890",
   "metadata": {},
   "outputs": [],
   "source": [
    "a = np.array([1, 2, 3])\n",
    "b = np.array([4, 5, 6])\n",
    "\n",
    "print(a + b)  \n",
    "print(a * b)  \n",
    "print(a ** 2) \n",
    "print(b ** 2) \n",
    "print(a / b)\n"
   ]
  },
  {
   "cell_type": "code",
   "execution_count": null,
   "id": "be5b2317",
   "metadata": {},
   "outputs": [],
   "source": [
    "arr = np.array([[1, 2, 3], [4, 5, 6]])\n",
    "\n",
    "print(arr.shape)      \n",
    "print(arr.reshape(3,2)) \n"
   ]
  },
  {
   "cell_type": "code",
   "execution_count": null,
   "id": "50a459a2",
   "metadata": {},
   "outputs": [],
   "source": [
    "a = np.array([1, 2, 3, 4, 5, 6, 7, 8, 9,10])\n",
    "\n",
    "print(np.sum(a))      \n"
   ]
  },
  {
   "cell_type": "code",
   "execution_count": null,
   "id": "2bda341b",
   "metadata": {},
   "outputs": [],
   "source": [
    "a = np.array([1, 2, 3, 4, 5, 6, 7, 8, 9,10])\n",
    "print(np.mean(a))     \n",
    "  \n"
   ]
  },
  {
   "cell_type": "code",
   "execution_count": null,
   "id": "bb33dd0f",
   "metadata": {},
   "outputs": [],
   "source": [
    "a = np.array([1, 2, 3, 4, 5, 6, 7, 8, 9,10])\n",
    "\n",
    "print(np.max(a))   \n",
    "print(np.min(a))   "
   ]
  },
  {
   "cell_type": "code",
   "execution_count": null,
   "id": "095c41d7",
   "metadata": {},
   "outputs": [],
   "source": [
    "a = np.array([10, 20, 30, 40, 50])\n",
    "\n",
    "print(a[0])     \n",
    "print(a[1:5])   \n",
    "\n",
    "\n"
   ]
  },
  {
   "cell_type": "code",
   "execution_count": null,
   "id": "68a71391",
   "metadata": {},
   "outputs": [],
   "source": [
    "a = np.array([1, 2, 3, 4, 5, 6, 7, 8, 9,10])\n",
    "print(a[a > 5])  \n"
   ]
  },
  {
   "cell_type": "code",
   "execution_count": null,
   "id": "b9ed1823",
   "metadata": {},
   "outputs": [],
   "source": [
    "import numpy as np\n",
    "\n",
    "arr = np.array([1, 2, 3, 4, 5])\n",
    "\n",
    "new_arr = arr + 10\n",
    "\n",
    "filtered = new_arr[new_arr > 12]\n",
    "\n",
    "print(\"Original:\", arr)\n",
    "print(\"New:\", new_arr)\n",
    "print(\"Filtered:\", filtered)\n"
   ]
  },
  {
   "cell_type": "markdown",
   "id": "7b932d45",
   "metadata": {},
   "source": [
    "| Function                     | Use                      |\n",
    "| ---------------------------- | ------------------------ |\n",
    "| `os.getcwd()`                | Get current directory    |\n",
    "| `os.chdir(path)`             | Change current directory |\n",
    "| `os.listdir()`               | List files/folders       |\n",
    "| `os.mkdir(name)`             | Create a folder          |\n",
    "| `os.makedirs(path)`          | Create nested folders    |\n",
    "| `os.rmdir(name)`             | Remove a folder          |\n",
    "| `os.rename(old, new)`        | Rename files/folders     |\n",
    "| `os.system(command)`         | Run system command       |\n",
    "| `os.path.exists(path)`       | Check if path exists     |\n",
    "| `os.path.join(path1, path2)` | Join paths safely        |\n"
   ]
  }
 ],
 "metadata": {
  "kernelspec": {
   "display_name": "Python 3",
   "language": "python",
   "name": "python3"
  },
  "language_info": {
   "codemirror_mode": {
    "name": "ipython",
    "version": 3
   },
   "file_extension": ".py",
   "mimetype": "text/x-python",
   "name": "python",
   "nbconvert_exporter": "python",
   "pygments_lexer": "ipython3",
   "version": "3.13.3"
  }
 },
 "nbformat": 4,
 "nbformat_minor": 5
}
