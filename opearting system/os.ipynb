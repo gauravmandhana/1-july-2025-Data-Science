{
 "cells": [
  {
   "cell_type": "markdown",
   "id": "1fe9d833",
   "metadata": {},
   "source": [
    "os"
   ]
  },
  {
   "cell_type": "code",
   "execution_count": 4,
   "id": "358e932e",
   "metadata": {},
   "outputs": [],
   "source": [
    "import os"
   ]
  },
  {
   "cell_type": "code",
   "execution_count": null,
   "id": "e1c91801",
   "metadata": {},
   "outputs": [
    {
     "name": "stdout",
     "output_type": "stream",
     "text": [
      "c:\\Users\\dell\\Desktop\\DATA SICENCE\\opearting system\n"
     ]
    }
   ],
   "source": [
    "file= os.getcwd()\n",
    "print(file)\n"
   ]
  },
  {
   "cell_type": "code",
   "execution_count": 7,
   "id": "cc95534b",
   "metadata": {},
   "outputs": [
    {
     "data": {
      "text/plain": [
       "['os.ipynb']"
      ]
     },
     "execution_count": 7,
     "metadata": {},
     "output_type": "execute_result"
    }
   ],
   "source": [
    "os.listdir(r\"c:\\Users\\dell\\Desktop\\DATA SICENCE\\opearting system\")\n"
   ]
  },
  {
   "cell_type": "code",
   "execution_count": 5,
   "id": "d11eae73",
   "metadata": {},
   "outputs": [
    {
     "name": "stdout",
     "output_type": "stream",
     "text": [
      "Now in: C:\\Users\\dell\\Desktop\\DATA SICENCE\\opearting system\n"
     ]
    }
   ],
   "source": [
    "import os\n",
    "\n",
    "# Change working directory\n",
    "os.chdir(r\"C:\\Users\\dell\\Desktop\\DATA SICENCE\\opearting system\")\n",
    "\n",
    "# Confirm current directory\n",
    "print(\"Now in:\", os.getcwd())\n"
   ]
  },
  {
   "cell_type": "code",
   "execution_count": 6,
   "id": "81ba3c7c",
   "metadata": {},
   "outputs": [
    {
     "name": "stdout",
     "output_type": "stream",
     "text": [
      "folder created succecesfully!\n"
     ]
    }
   ],
   "source": [
    "os.mkdir(\"test\")\n",
    "print(\"folder created succecesfully!\")"
   ]
  },
  {
   "cell_type": "code",
   "execution_count": 17,
   "id": "65c23886",
   "metadata": {},
   "outputs": [
    {
     "data": {
      "text/plain": [
       "['os.ipynb', 'test']"
      ]
     },
     "execution_count": 17,
     "metadata": {},
     "output_type": "execute_result"
    }
   ],
   "source": [
    "['os.ipynb', 'test']\n"
   ]
  },
  {
   "cell_type": "code",
   "execution_count": 18,
   "id": "b2928a1f",
   "metadata": {},
   "outputs": [
    {
     "data": {
      "text/plain": [
       "['os.ipynb', 'test']"
      ]
     },
     "execution_count": 18,
     "metadata": {},
     "output_type": "execute_result"
    }
   ],
   "source": [
    "os.listdir(os.getcwd())"
   ]
  },
  {
   "cell_type": "code",
   "execution_count": 20,
   "id": "c4cec532",
   "metadata": {},
   "outputs": [
    {
     "name": "stdout",
     "output_type": "stream",
     "text": [
      "folder rename\n"
     ]
    }
   ],
   "source": [
    "os.rename (\"test\",\"data sicence\" )\n",
    "print(\"folder rename\")\n",
    "\n"
   ]
  },
  {
   "cell_type": "code",
   "execution_count": 7,
   "id": "6139ffca",
   "metadata": {},
   "outputs": [
    {
     "ename": "FileNotFoundError",
     "evalue": "[WinError 2] The system cannot find the file specified: 'data science'",
     "output_type": "error",
     "traceback": [
      "\u001b[31m---------------------------------------------------------------------------\u001b[39m",
      "\u001b[31mFileNotFoundError\u001b[39m                         Traceback (most recent call last)",
      "\u001b[36mCell\u001b[39m\u001b[36m \u001b[39m\u001b[32mIn[7]\u001b[39m\u001b[32m, line 3\u001b[39m\n\u001b[32m      1\u001b[39m \u001b[38;5;28;01mimport\u001b[39;00m\u001b[38;5;250m \u001b[39m\u001b[34;01mos\u001b[39;00m\n\u001b[32m----> \u001b[39m\u001b[32m3\u001b[39m \u001b[43mos\u001b[49m\u001b[43m.\u001b[49m\u001b[43mrmdir\u001b[49m\u001b[43m(\u001b[49m\u001b[33;43m\"\u001b[39;49m\u001b[33;43mdata science\u001b[39;49m\u001b[33;43m\"\u001b[39;49m\u001b[43m)\u001b[49m\n\u001b[32m      5\u001b[39m \u001b[38;5;28mprint\u001b[39m(\u001b[33m\"\u001b[39m\u001b[33mfolder deleted\u001b[39m\u001b[33m\"\u001b[39m)\n",
      "\u001b[31mFileNotFoundError\u001b[39m: [WinError 2] The system cannot find the file specified: 'data science'"
     ]
    }
   ],
   "source": [
    "import os\n",
    "\n",
    "os.rmdir(\"data science\")\n",
    "\n",
    "print(\"folder deleted\")\n",
    "\n"
   ]
  },
  {
   "cell_type": "code",
   "execution_count": 23,
   "id": "5121683a",
   "metadata": {},
   "outputs": [
    {
     "data": {
      "text/plain": [
       "['os.ipynb']"
      ]
     },
     "execution_count": 23,
     "metadata": {},
     "output_type": "execute_result"
    }
   ],
   "source": [
    "os.listdir(os.getcwd())\n"
   ]
  },
  {
   "cell_type": "code",
   "execution_count": null,
   "id": "a428f0e6",
   "metadata": {},
   "outputs": [
    {
     "ename": "SyntaxError",
     "evalue": "invalid syntax (1690411367.py, line 1)",
     "output_type": "error",
     "traceback": [
      "  \u001b[36mCell\u001b[39m\u001b[36m \u001b[39m\u001b[32mIn[24]\u001b[39m\u001b[32m, line 1\u001b[39m\n\u001b[31m    \u001b[39m\u001b[31mos.\u001b[39m\n       ^\n\u001b[31mSyntaxError\u001b[39m\u001b[31m:\u001b[39m invalid syntax\n"
     ]
    }
   ],
   "source": []
  },
  {
   "cell_type": "code",
   "execution_count": 25,
   "id": "817a6605",
   "metadata": {},
   "outputs": [
    {
     "data": {
      "text/plain": [
       "'C:\\\\Users\\\\dell\\\\Desktop\\\\DATA SICENCE\\\\opearting system'"
      ]
     },
     "execution_count": 25,
     "metadata": {},
     "output_type": "execute_result"
    }
   ],
   "source": [
    "os.getcwd()"
   ]
  },
  {
   "cell_type": "code",
   "execution_count": null,
   "id": "45c11d55",
   "metadata": {},
   "outputs": [],
   "source": [
    "path = r\"C:\\\\Users\\\\dell\\\\Desktop\\\\DATA SICENCE\\\\opearting system\"\n",
    "path =os.environ.get(path)\n",
    "print(\"\")"
   ]
  },
  {
   "cell_type": "code",
   "execution_count": 29,
   "id": "a72f5732",
   "metadata": {},
   "outputs": [
    {
     "data": {
      "text/plain": [
       "False"
      ]
     },
     "execution_count": 29,
     "metadata": {},
     "output_type": "execute_result"
    }
   ],
   "source": [
    "path =r\" C:\\Users\\dell\\Desktop\\DATA SICENCE\\PYTHON\\conditional.ipynb\"\n",
    "os.path.isfile(path)\n"
   ]
  },
  {
   "cell_type": "code",
   "execution_count": 30,
   "id": "afe65076",
   "metadata": {},
   "outputs": [
    {
     "data": {
      "text/plain": [
       "True"
      ]
     },
     "execution_count": 30,
     "metadata": {},
     "output_type": "execute_result"
    }
   ],
   "source": [
    "path =r\"C:\\Users\\dell\\Desktop\\DATA SICENCE\\opearting system\"\n",
    "os.path.isdir(path)\n"
   ]
  },
  {
   "cell_type": "code",
   "execution_count": 32,
   "id": "a5eba638",
   "metadata": {},
   "outputs": [
    {
     "name": "stdout",
     "output_type": "stream",
     "text": [
      "C:\\Users\\dell\\Desktop\\DATA SICENCE\\Meachine Learning\n"
     ]
    },
    {
     "data": {
      "text/plain": [
       "[]"
      ]
     },
     "execution_count": 32,
     "metadata": {},
     "output_type": "execute_result"
    }
   ],
   "source": [
    "path1= r\"C:\\Users\\dell\\Desktop\\DATA SICENCE\\opearting system\"\n",
    "path2 =r\"C:\\Users\\dell\\Desktop\\DATA SICENCE\\Meachine Learning\"\n",
    "complete_path = os.path.join(path1,path2)\n",
    "print(complete_path)\n",
    "os.listdir(complete_path)\n",
    "\n"
   ]
  },
  {
   "cell_type": "code",
   "execution_count": 33,
   "id": "d5a6ba52",
   "metadata": {},
   "outputs": [
    {
     "name": "stdout",
     "output_type": "stream",
     "text": [
      "size of the file (in bytes):- 2803\n"
     ]
    }
   ],
   "source": [
    "path= r\"C:\\Users\\dell\\Desktop\\DATA SICENCE\\PYTHON\\looping.ipynb\"\n",
    "size =os.path.getsize(path)\n",
    "print(\"size of the file (in bytes):-\",size)"
   ]
  },
  {
   "cell_type": "code",
   "execution_count": 34,
   "id": "9b3cbcc7",
   "metadata": {},
   "outputs": [
    {
     "name": "stdout",
     "output_type": "stream",
     "text": [
      "before dir C:\\Users\\dell\\Desktop\\DATA SICENCE\\opearting system\n",
      "after dir C:\\Users\\dell\\Desktop\\DATA SICENCE\\PYTHON\n"
     ]
    }
   ],
   "source": [
    "print(\"before dir\", os.getcwd())\n",
    "os.chdir(r\"C:\\Users\\dell\\Desktop\\DATA SICENCE\\PYTHON\")\n",
    "print(\"after dir\", os.getcwd())"
   ]
  },
  {
   "cell_type": "code",
   "execution_count": null,
   "id": "103a90bc",
   "metadata": {},
   "outputs": [],
   "source": []
  }
 ],
 "metadata": {
  "kernelspec": {
   "display_name": "Python 3",
   "language": "python",
   "name": "python3"
  },
  "language_info": {
   "codemirror_mode": {
    "name": "ipython",
    "version": 3
   },
   "file_extension": ".py",
   "mimetype": "text/x-python",
   "name": "python",
   "nbconvert_exporter": "python",
   "pygments_lexer": "ipython3",
   "version": "3.13.3"
  }
 },
 "nbformat": 4,
 "nbformat_minor": 5
}
