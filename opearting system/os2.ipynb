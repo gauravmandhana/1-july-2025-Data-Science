{
 "cells": [
  {
   "cell_type": "markdown",
   "id": "0a4354bb",
   "metadata": {},
   "source": [
    "__ What is os in Python?__"
   ]
  },
  {
   "cell_type": "code",
   "execution_count": 39,
   "id": "699e719b",
   "metadata": {},
   "outputs": [],
   "source": [
    "import os"
   ]
  },
  {
   "cell_type": "code",
   "execution_count": 36,
   "id": "8c5c1429",
   "metadata": {},
   "outputs": [
    {
     "name": "stdout",
     "output_type": "stream",
     "text": [
      "c:\\Users\\dell\\Desktop\\DATA SICENCE\\opearting system\n"
     ]
    }
   ],
   "source": [
    "print(os.getcwd())\n"
   ]
  },
  {
   "cell_type": "code",
   "execution_count": 34,
   "id": "a9d96884",
   "metadata": {},
   "outputs": [
    {
     "name": "stdout",
     "output_type": "stream",
     "text": [
      "['gaurav', 'goru', 'my_folder', 'os.ipynb', 'os2.ipynb']\n"
     ]
    }
   ],
   "source": [
    "print(os.listdir())\n"
   ]
  },
  {
   "cell_type": "code",
   "execution_count": 11,
   "id": "0ad8cfdd",
   "metadata": {},
   "outputs": [
    {
     "name": "stdout",
     "output_type": "stream",
     "text": [
      "c:\\Users\\dell\\Desktop\\DATA SICENCE\\opearting system\n"
     ]
    }
   ],
   "source": [
    "print(os.getcwd())"
   ]
  },
  {
   "cell_type": "code",
   "execution_count": 33,
   "id": "060ab12f",
   "metadata": {},
   "outputs": [],
   "source": [
    "os.mkdir(\"my_folder\")\n"
   ]
  },
  {
   "cell_type": "code",
   "execution_count": 13,
   "id": "6bf9aaaf",
   "metadata": {},
   "outputs": [],
   "source": [
    "os.makedirs(\"folder1/folder2/folder3\")\n"
   ]
  },
  {
   "cell_type": "code",
   "execution_count": 14,
   "id": "dfa83323",
   "metadata": {},
   "outputs": [],
   "source": [
    "os.rmdir(\"my_folder\")"
   ]
  },
  {
   "cell_type": "code",
   "execution_count": 15,
   "id": "f255c28c",
   "metadata": {},
   "outputs": [],
   "source": [
    "os.rename(\"folder1\", \"gaurav\")\n"
   ]
  },
  {
   "cell_type": "code",
   "execution_count": 16,
   "id": "1b9a6a26",
   "metadata": {},
   "outputs": [
    {
     "data": {
      "text/plain": [
       "0"
      ]
     },
     "execution_count": 16,
     "metadata": {},
     "output_type": "execute_result"
    }
   ],
   "source": [
    "os.system(\"notepad\")\n"
   ]
  },
  {
   "cell_type": "code",
   "execution_count": 17,
   "id": "a1309bbf",
   "metadata": {},
   "outputs": [
    {
     "data": {
      "text/plain": [
       "1"
      ]
     },
     "execution_count": 17,
     "metadata": {},
     "output_type": "execute_result"
    }
   ],
   "source": [
    "os.system(\"this pc\")\n"
   ]
  },
  {
   "cell_type": "code",
   "execution_count": 18,
   "id": "1bcff929",
   "metadata": {},
   "outputs": [
    {
     "data": {
      "text/plain": [
       "1"
      ]
     },
     "execution_count": 18,
     "metadata": {},
     "output_type": "execute_result"
    }
   ],
   "source": [
    "os.system(\"whatswhatsApp\")"
   ]
  },
  {
   "cell_type": "code",
   "execution_count": 19,
   "id": "2f7e8337",
   "metadata": {},
   "outputs": [
    {
     "data": {
      "text/plain": [
       "1"
      ]
     },
     "execution_count": 19,
     "metadata": {},
     "output_type": "execute_result"
    }
   ],
   "source": [
    "os.system(\"videos\")"
   ]
  },
  {
   "cell_type": "code",
   "execution_count": 26,
   "id": "8ff37467",
   "metadata": {},
   "outputs": [
    {
     "name": "stdout",
     "output_type": "stream",
     "text": [
      "True\n"
     ]
    }
   ],
   "source": [
    "# path=(os.path.exists(\"gaurav\"))\n",
    "print((os.path.exists(\"gaurav\")))"
   ]
  },
  {
   "cell_type": "code",
   "execution_count": 27,
   "id": "6b401132",
   "metadata": {},
   "outputs": [
    {
     "name": "stdout",
     "output_type": "stream",
     "text": [
      "gaurav\\folder2\n"
     ]
    }
   ],
   "source": [
    "path = os.path.join(\"gaurav\", \"folder2\")\n",
    "print(path)\n"
   ]
  },
  {
   "cell_type": "code",
   "execution_count": 41,
   "id": "9230ab61",
   "metadata": {},
   "outputs": [
    {
     "name": "stdout",
     "output_type": "stream",
     "text": [
      "Current Directory: c:\\Users\\dell\\Desktop\\DATA SICENCE\\opearting system\n",
      "Contents: ['gaurav', 'goru', 'my_folder', 'os.ipynb', 'os2.ipynb', 'renamed_folder']\n"
     ]
    }
   ],
   "source": [
    "import os\n",
    "\n",
    "print(\"Current Directory:\", os.getcwd())\n",
    "\n",
    "# Creating a new folder\n",
    "os.mkdir(\"test_folder\")\n",
    "\n",
    "# Renaming the folder\n",
    "os.rename(\"test_folder\", \"renamed_folder\")\n",
    "\n",
    "\n",
    "print(\"Contents:\", os.listdir())\n",
    "\n",
    "# Deleting the folder\n",
    "os.rmdir(\"renamed_folder\")\n"
   ]
  },
  {
   "cell_type": "markdown",
   "id": "a5c7615f",
   "metadata": {},
   "source": [
    "| Function                     | Use                      |\n",
    "| ---------------------------- | ------------------------ |\n",
    "| `os.getcwd()`                | Get current directory    |\n",
    "| `os.chdir(path)`             | Change current directory |\n",
    "| `os.listdir()`               | List files/folders       |\n",
    "| `os.mkdir(name)`             | Create a folder          |\n",
    "| `os.makedirs(path)`          | Create nested folders    |\n",
    "| `os.rmdir(name)`             | Remove a folder          |\n",
    "| `os.rename(old, new)`        | Rename files/folders     |\n",
    "| `os.system(command)`         | Run system command       |\n",
    "| `os.path.exists(path)`       | Check if path exists     |\n",
    "| `os.path.join(path1, path2)` | Join paths safely        |\n"
   ]
  },
  {
   "cell_type": "markdown",
   "id": "872dffc1",
   "metadata": {},
   "source": []
  }
 ],
 "metadata": {
  "kernelspec": {
   "display_name": "Python 3",
   "language": "python",
   "name": "python3"
  },
  "language_info": {
   "codemirror_mode": {
    "name": "ipython",
    "version": 3
   },
   "file_extension": ".py",
   "mimetype": "text/x-python",
   "name": "python",
   "nbconvert_exporter": "python",
   "pygments_lexer": "ipython3",
   "version": "3.13.3"
  }
 },
 "nbformat": 4,
 "nbformat_minor": 5
}
